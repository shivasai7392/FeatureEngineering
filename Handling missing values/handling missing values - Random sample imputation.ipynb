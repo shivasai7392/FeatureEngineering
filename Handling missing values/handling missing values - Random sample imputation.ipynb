{
 "cells": [
  {
   "cell_type": "markdown",
   "metadata": {},
   "source": [
    "#### Random Sample imputation\n",
    "\n",
    "Aim : Random sample imputation consists of taking random observation from the dataset and we use this observation to replace nan values\n",
    "\n",
    "When it should be used?\n",
    "\n",
    "It assumes that the data is missing completely at random"
   ]
  },
  {
   "cell_type": "code",
   "execution_count": 1,
   "metadata": {},
   "outputs": [],
   "source": [
    "import pandas as pd"
   ]
  },
  {
   "cell_type": "code",
   "execution_count": 3,
   "metadata": {},
   "outputs": [],
   "source": [
    "data = pd.read_csv(\"/home/shivasai7392/Desktop/DS/Assignments/Kaggle/Titanic/train.csv\",usecols=[\"Age\",\"Fare\",\"Survived\"])"
   ]
  },
  {
   "cell_type": "code",
   "execution_count": 4,
   "metadata": {},
   "outputs": [
    {
     "data": {
      "text/html": [
       "<div>\n",
       "<style scoped>\n",
       "    .dataframe tbody tr th:only-of-type {\n",
       "        vertical-align: middle;\n",
       "    }\n",
       "\n",
       "    .dataframe tbody tr th {\n",
       "        vertical-align: top;\n",
       "    }\n",
       "\n",
       "    .dataframe thead th {\n",
       "        text-align: right;\n",
       "    }\n",
       "</style>\n",
       "<table border=\"1\" class=\"dataframe\">\n",
       "  <thead>\n",
       "    <tr style=\"text-align: right;\">\n",
       "      <th></th>\n",
       "      <th>Survived</th>\n",
       "      <th>Age</th>\n",
       "      <th>Fare</th>\n",
       "    </tr>\n",
       "  </thead>\n",
       "  <tbody>\n",
       "    <tr>\n",
       "      <th>0</th>\n",
       "      <td>0</td>\n",
       "      <td>22.0</td>\n",
       "      <td>7.2500</td>\n",
       "    </tr>\n",
       "    <tr>\n",
       "      <th>1</th>\n",
       "      <td>1</td>\n",
       "      <td>38.0</td>\n",
       "      <td>71.2833</td>\n",
       "    </tr>\n",
       "    <tr>\n",
       "      <th>2</th>\n",
       "      <td>1</td>\n",
       "      <td>26.0</td>\n",
       "      <td>7.9250</td>\n",
       "    </tr>\n",
       "    <tr>\n",
       "      <th>3</th>\n",
       "      <td>1</td>\n",
       "      <td>35.0</td>\n",
       "      <td>53.1000</td>\n",
       "    </tr>\n",
       "    <tr>\n",
       "      <th>4</th>\n",
       "      <td>0</td>\n",
       "      <td>35.0</td>\n",
       "      <td>8.0500</td>\n",
       "    </tr>\n",
       "  </tbody>\n",
       "</table>\n",
       "</div>"
      ],
      "text/plain": [
       "   Survived   Age     Fare\n",
       "0         0  22.0   7.2500\n",
       "1         1  38.0  71.2833\n",
       "2         1  26.0   7.9250\n",
       "3         1  35.0  53.1000\n",
       "4         0  35.0   8.0500"
      ]
     },
     "execution_count": 4,
     "metadata": {},
     "output_type": "execute_result"
    }
   ],
   "source": [
    "data.head()"
   ]
  },
  {
   "cell_type": "code",
   "execution_count": 5,
   "metadata": {},
   "outputs": [
    {
     "data": {
      "text/plain": [
       "Survived      0\n",
       "Age         177\n",
       "Fare          0\n",
       "dtype: int64"
      ]
     },
     "execution_count": 5,
     "metadata": {},
     "output_type": "execute_result"
    }
   ],
   "source": [
    "data.isna().sum()"
   ]
  },
  {
   "cell_type": "code",
   "execution_count": 6,
   "metadata": {},
   "outputs": [
    {
     "data": {
      "text/plain": [
       "Survived    0.000000\n",
       "Age         0.198653\n",
       "Fare        0.000000\n",
       "dtype: float64"
      ]
     },
     "execution_count": 6,
     "metadata": {},
     "output_type": "execute_result"
    }
   ],
   "source": [
    "data.isna().mean()"
   ]
  },
  {
   "cell_type": "code",
   "execution_count": 36,
   "metadata": {},
   "outputs": [],
   "source": [
    "def impute_nan(data,feature):\n",
    "    data[feature+\"_median\"] = data[feature].fillna(data[feature].median())\n",
    "    data[feature+\"_random\"] = data[feature]\n",
    "    random_sample = data[feature].dropna().sample(data[feature].isnull().sum(),random_state =0)\n",
    "    random_sample.index = data[data[feature].isnull()].index\n",
    "    data.loc[data[feature].isnull(),feature+\"_random\"] = random_sample\n",
    "    \n",
    "    "
   ]
  },
  {
   "cell_type": "code",
   "execution_count": 37,
   "metadata": {},
   "outputs": [],
   "source": [
    "impute_nan(data,\"Age\")"
   ]
  },
  {
   "cell_type": "code",
   "execution_count": 38,
   "metadata": {},
   "outputs": [
    {
     "data": {
      "text/html": [
       "<div>\n",
       "<style scoped>\n",
       "    .dataframe tbody tr th:only-of-type {\n",
       "        vertical-align: middle;\n",
       "    }\n",
       "\n",
       "    .dataframe tbody tr th {\n",
       "        vertical-align: top;\n",
       "    }\n",
       "\n",
       "    .dataframe thead th {\n",
       "        text-align: right;\n",
       "    }\n",
       "</style>\n",
       "<table border=\"1\" class=\"dataframe\">\n",
       "  <thead>\n",
       "    <tr style=\"text-align: right;\">\n",
       "      <th></th>\n",
       "      <th>Survived</th>\n",
       "      <th>Age</th>\n",
       "      <th>Fare</th>\n",
       "      <th>Age_median</th>\n",
       "      <th>Age_random</th>\n",
       "    </tr>\n",
       "  </thead>\n",
       "  <tbody>\n",
       "    <tr>\n",
       "      <th>0</th>\n",
       "      <td>0</td>\n",
       "      <td>22.0</td>\n",
       "      <td>7.2500</td>\n",
       "      <td>22.0</td>\n",
       "      <td>22.0</td>\n",
       "    </tr>\n",
       "    <tr>\n",
       "      <th>1</th>\n",
       "      <td>1</td>\n",
       "      <td>38.0</td>\n",
       "      <td>71.2833</td>\n",
       "      <td>38.0</td>\n",
       "      <td>38.0</td>\n",
       "    </tr>\n",
       "    <tr>\n",
       "      <th>2</th>\n",
       "      <td>1</td>\n",
       "      <td>26.0</td>\n",
       "      <td>7.9250</td>\n",
       "      <td>26.0</td>\n",
       "      <td>26.0</td>\n",
       "    </tr>\n",
       "    <tr>\n",
       "      <th>3</th>\n",
       "      <td>1</td>\n",
       "      <td>35.0</td>\n",
       "      <td>53.1000</td>\n",
       "      <td>35.0</td>\n",
       "      <td>35.0</td>\n",
       "    </tr>\n",
       "    <tr>\n",
       "      <th>4</th>\n",
       "      <td>0</td>\n",
       "      <td>35.0</td>\n",
       "      <td>8.0500</td>\n",
       "      <td>35.0</td>\n",
       "      <td>35.0</td>\n",
       "    </tr>\n",
       "  </tbody>\n",
       "</table>\n",
       "</div>"
      ],
      "text/plain": [
       "   Survived   Age     Fare  Age_median  Age_random\n",
       "0         0  22.0   7.2500        22.0        22.0\n",
       "1         1  38.0  71.2833        38.0        38.0\n",
       "2         1  26.0   7.9250        26.0        26.0\n",
       "3         1  35.0  53.1000        35.0        35.0\n",
       "4         0  35.0   8.0500        35.0        35.0"
      ]
     },
     "execution_count": 38,
     "metadata": {},
     "output_type": "execute_result"
    }
   ],
   "source": [
    "data.head()"
   ]
  },
  {
   "cell_type": "code",
   "execution_count": 39,
   "metadata": {},
   "outputs": [
    {
     "data": {
      "text/plain": [
       "Survived        0\n",
       "Age           177\n",
       "Fare            0\n",
       "Age_median      0\n",
       "Age_random      0\n",
       "dtype: int64"
      ]
     },
     "execution_count": 39,
     "metadata": {},
     "output_type": "execute_result"
    }
   ],
   "source": [
    "data.isna().sum()"
   ]
  },
  {
   "cell_type": "code",
   "execution_count": 18,
   "metadata": {},
   "outputs": [
    {
     "data": {
      "text/plain": [
       "177"
      ]
     },
     "execution_count": 18,
     "metadata": {},
     "output_type": "execute_result"
    }
   ],
   "source": [
    "data.Age.isnull().sum()"
   ]
  },
  {
   "cell_type": "code",
   "execution_count": 16,
   "metadata": {},
   "outputs": [],
   "source": [
    "b = a.dropna()"
   ]
  },
  {
   "cell_type": "code",
   "execution_count": 20,
   "metadata": {},
   "outputs": [],
   "source": [
    "a = b.sample(data.Age.isnull().sum())"
   ]
  },
  {
   "cell_type": "code",
   "execution_count": 22,
   "metadata": {},
   "outputs": [
    {
     "data": {
      "text/plain": [
       "73     26.0\n",
       "532    17.0\n",
       "129    45.0\n",
       "579    32.0\n",
       "317    54.0\n",
       "165     9.0\n",
       "637    31.0\n",
       "575    19.0\n",
       "417    18.0\n",
       "30     40.0\n",
       "134    25.0\n",
       "866    27.0\n",
       "12     20.0\n",
       "716    38.0\n",
       "164     1.0\n",
       "529    23.0\n",
       "171     4.0\n",
       "175    18.0\n",
       "599    49.0\n",
       "280    65.0\n",
       "634     9.0\n",
       "278     7.0\n",
       "429    32.0\n",
       "838    32.0\n",
       "615    24.0\n",
       "714    52.0\n",
       "353    25.0\n",
       "821    27.0\n",
       "209    40.0\n",
       "207    26.0\n",
       "       ... \n",
       "441    20.0\n",
       "373    22.0\n",
       "407     3.0\n",
       "631    51.0\n",
       "848    28.0\n",
       "702    18.0\n",
       "8      27.0\n",
       "75     25.0\n",
       "163    17.0\n",
       "249    54.0\n",
       "785    25.0\n",
       "456    65.0\n",
       "691     4.0\n",
       "443    28.0\n",
       "0      22.0\n",
       "549     8.0\n",
       "390    36.0\n",
       "267    25.0\n",
       "461    34.0\n",
       "135    23.0\n",
       "438    64.0\n",
       "687    19.0\n",
       "143    19.0\n",
       "887    19.0\n",
       "253    30.0\n",
       "491    21.0\n",
       "316    24.0\n",
       "412    33.0\n",
       "406    51.0\n",
       "230    35.0\n",
       "Name: Age, Length: 177, dtype: float64"
      ]
     },
     "execution_count": 22,
     "metadata": {},
     "output_type": "execute_result"
    }
   ],
   "source": [
    "a"
   ]
  },
  {
   "cell_type": "code",
   "execution_count": 23,
   "metadata": {},
   "outputs": [
    {
     "data": {
      "text/plain": [
       "Int64Index([ 73, 532, 129, 579, 317, 165, 637, 575, 417,  30,\n",
       "            ...\n",
       "            438, 687, 143, 887, 253, 491, 316, 412, 406, 230],\n",
       "           dtype='int64', length=177)"
      ]
     },
     "execution_count": 23,
     "metadata": {},
     "output_type": "execute_result"
    }
   ],
   "source": [
    "a.index"
   ]
  },
  {
   "cell_type": "code",
   "execution_count": 27,
   "metadata": {},
   "outputs": [],
   "source": [
    "a.index = data[data.Age.isnull()].index"
   ]
  },
  {
   "cell_type": "code",
   "execution_count": 28,
   "metadata": {},
   "outputs": [
    {
     "data": {
      "text/plain": [
       "5      26.0\n",
       "17     17.0\n",
       "19     45.0\n",
       "26     32.0\n",
       "28     54.0\n",
       "29      9.0\n",
       "31     31.0\n",
       "32     19.0\n",
       "36     18.0\n",
       "42     40.0\n",
       "45     25.0\n",
       "46     27.0\n",
       "47     20.0\n",
       "48     38.0\n",
       "55      1.0\n",
       "64     23.0\n",
       "65      4.0\n",
       "76     18.0\n",
       "77     49.0\n",
       "82     65.0\n",
       "87      9.0\n",
       "95      7.0\n",
       "101    32.0\n",
       "107    32.0\n",
       "109    24.0\n",
       "121    52.0\n",
       "126    25.0\n",
       "128    27.0\n",
       "140    40.0\n",
       "154    26.0\n",
       "       ... \n",
       "718    20.0\n",
       "727    22.0\n",
       "732     3.0\n",
       "738    51.0\n",
       "739    28.0\n",
       "740    18.0\n",
       "760    27.0\n",
       "766    25.0\n",
       "768    17.0\n",
       "773    54.0\n",
       "776    25.0\n",
       "778    65.0\n",
       "783     4.0\n",
       "790    28.0\n",
       "792    22.0\n",
       "793     8.0\n",
       "815    36.0\n",
       "825    25.0\n",
       "826    34.0\n",
       "828    23.0\n",
       "832    64.0\n",
       "837    19.0\n",
       "839    19.0\n",
       "846    19.0\n",
       "849    30.0\n",
       "859    21.0\n",
       "863    24.0\n",
       "868    33.0\n",
       "878    51.0\n",
       "888    35.0\n",
       "Name: Age, Length: 177, dtype: float64"
      ]
     },
     "execution_count": 28,
     "metadata": {},
     "output_type": "execute_result"
    }
   ],
   "source": [
    "a"
   ]
  },
  {
   "cell_type": "code",
   "execution_count": 32,
   "metadata": {},
   "outputs": [],
   "source": [
    "data.loc[data[\"Age\"].isnull(),\"Age_random\"] = a.values"
   ]
  },
  {
   "cell_type": "code",
   "execution_count": 33,
   "metadata": {},
   "outputs": [
    {
     "data": {
      "text/plain": [
       "5      26.0\n",
       "17     17.0\n",
       "19     45.0\n",
       "26     32.0\n",
       "28     54.0\n",
       "29      9.0\n",
       "31     31.0\n",
       "32     19.0\n",
       "36     18.0\n",
       "42     40.0\n",
       "45     25.0\n",
       "46     27.0\n",
       "47     20.0\n",
       "48     38.0\n",
       "55      1.0\n",
       "64     23.0\n",
       "65      4.0\n",
       "76     18.0\n",
       "77     49.0\n",
       "82     65.0\n",
       "87      9.0\n",
       "95      7.0\n",
       "101    32.0\n",
       "107    32.0\n",
       "109    24.0\n",
       "121    52.0\n",
       "126    25.0\n",
       "128    27.0\n",
       "140    40.0\n",
       "154    26.0\n",
       "       ... \n",
       "718    20.0\n",
       "727    22.0\n",
       "732     3.0\n",
       "738    51.0\n",
       "739    28.0\n",
       "740    18.0\n",
       "760    27.0\n",
       "766    25.0\n",
       "768    17.0\n",
       "773    54.0\n",
       "776    25.0\n",
       "778    65.0\n",
       "783     4.0\n",
       "790    28.0\n",
       "792    22.0\n",
       "793     8.0\n",
       "815    36.0\n",
       "825    25.0\n",
       "826    34.0\n",
       "828    23.0\n",
       "832    64.0\n",
       "837    19.0\n",
       "839    19.0\n",
       "846    19.0\n",
       "849    30.0\n",
       "859    21.0\n",
       "863    24.0\n",
       "868    33.0\n",
       "878    51.0\n",
       "888    35.0\n",
       "Name: Age_random, Length: 177, dtype: float64"
      ]
     },
     "execution_count": 33,
     "metadata": {},
     "output_type": "execute_result"
    }
   ],
   "source": [
    "data.loc[data[\"Age\"].isnull(),\"Age_random\"]"
   ]
  },
  {
   "cell_type": "code",
   "execution_count": 40,
   "metadata": {},
   "outputs": [],
   "source": [
    "import matplotlib.pyplot as plt\n",
    "%matplotlib inline"
   ]
  },
  {
   "cell_type": "code",
   "execution_count": 45,
   "metadata": {},
   "outputs": [
    {
     "data": {
      "text/plain": [
       "<matplotlib.legend.Legend at 0x7f2ee7092710>"
      ]
     },
     "execution_count": 45,
     "metadata": {},
     "output_type": "execute_result"
    },
    {
     "data": {
      "image/png": "[encoded data removed]",
      "text/plain": [
       "<Figure size 432x288 with 1 Axes>"
      ]
     },
     "metadata": {
      "needs_background": "light"
     },
     "output_type": "display_data"
    }
   ],
   "source": [
    "fig = plt.figure()\n",
    "ax = fig.add_subplot(111)\n",
    "data[\"Age\"].plot(kind = \"kde\",ax=ax,color = \"blue\")\n",
    "data.Age_median.plot(kind = \"kde\",ax =ax,color = \"red\")\n",
    "data.Age_random.plot(kind = \"kde\",ax =ax,color = \"green\")\n",
    "lines,labels =  ax.get_legend_handles_labels()\n",
    "ax.legend(lines,labels,loc = \"best\")\n"
   ]
  },
  {
   "cell_type": "markdown",
   "metadata": {},
   "source": [
    "#### Advantages\n",
    "\n",
    "1.easy to implement\n",
    "\n",
    "2.less distortion in variance\n",
    "\n",
    "#### Disadvantages\n",
    "\n",
    "1.Every situation randomness won't work"
   ]
  }
 ],
 "metadata": {
  "kernelspec": {
   "display_name": "Python 3",
   "language": "python",
   "name": "python3"
  },
  "language_info": {
   "codemirror_mode": {
    "name": "ipython",
    "version": 2
   },
   "file_extension": ".py",
   "mimetype": "text/x-python",
   "name": "python",
   "nbconvert_exporter": "python",
   "pygments_lexer": "ipython2",
   "version": "2.7.17"
  }
 },
 "nbformat": 4,
 "nbformat_minor": 2
}
